{
  "nbformat": 4,
  "nbformat_minor": 0,
  "metadata": {
    "colab": {
      "name": "wwc_meetup.ipynb",
      "version": "0.3.2",
      "provenance": [],
      "collapsed_sections": []
    },
    "kernelspec": {
      "display_name": "Python 3",
      "language": "python",
      "name": "python3"
    }
  },
  "cells": [
    {
      "metadata": {
        "id": "AqjKM4m36oyY",
        "colab_type": "text"
      },
      "cell_type": "markdown",
      "source": [
        "# Neural Network to Recognise Hand Written Digits Using Keras\n",
        "\n",
        "#### In this session, we will be using keras, a top level wrapper for Tensorflow to build Neural Networks that can classify hand-written digits.\n",
        "\n",
        "## We will be building three types of networks :\n",
        "* Feed-Forward Neural Network: This is a simple neural network with only dense connections\n",
        "* Convolutional Neural Network: This is a more advanced network\n",
        "\n",
        "## You will need :\n",
        "* keras \n",
        "* matplotlib - Used for data visualisation\n",
        "* numpy - Used for Matrix Operations\n",
        "\n",
        "# Let's Get Started!\n",
        "\n",
        "## Feed-Forward Neural Network\n",
        "\n",
        "### Step 1: First we have to import all the packages that we need"
      ]
    },
    {
      "metadata": {
        "id": "-lacTw8e6oyb",
        "colab_type": "code",
        "outputId": "a7710ff7-98f1-40cc-eec2-ec18d136dcea",
        "colab": {
          "base_uri": "https://localhost:8080/",
          "height": 34
        }
      },
      "cell_type": "code",
      "source": [
        "import keras                         # Used for building the model and getting the MNIST data\n",
        "from keras.datasets import mnist     # Used for downloading and using MNIST data\n",
        "from keras.models import Sequential  # For building the model. Case Sensitive! 'S' is Capital!\n",
        "from keras.layers import Dense       # For fully connected layer\n",
        "from keras.optimizers import Adam    # Optimiser used for training\n",
        "\n",
        "import numpy as np                   # Used for matrix operations\n",
        "\n",
        "%matplotlib inline\n",
        "import matplotlib.pyplot as plt      # For visualisations"
      ],
      "execution_count": 1,
      "outputs": [
        {
          "output_type": "stream",
          "text": [
            "Using TensorFlow backend.\n"
          ],
          "name": "stderr"
        }
      ]
    },
    {
      "metadata": {
        "id": "HZQITZ5E6oyj",
        "colab_type": "text"
      },
      "cell_type": "markdown",
      "source": [
        "### Step 2: Now we have to set up some Hyper Parameters\n",
        "\n",
        "Hyper-parameters are certain constants in the neural network.\n",
        "These include the learning rate, number of layers and number of neurons in each layer.\n",
        "It is hard to know what the 'ideal' values of these hyper-parameters are, so we use certain rules-of-thumb and trial and error to select our hyper-parameters.\n",
        "They can be adjusted to get different results from the neural network."
      ]
    },
    {
      "metadata": {
        "id": "wpZ9rcyU6oyl",
        "colab_type": "code",
        "colab": {}
      },
      "cell_type": "code",
      "source": [
        "# We feed our data into the network in batches.\n",
        "# We chose a batch size of 128 meaning each batch contains 128 images.\n",
        "batch_size = 128   \n",
        "# There are 10 digits, so we have 10 classes\n",
        "num_classes = 10\n",
        "# We will train our network for 5 epochs\n",
        "epochs = 5\n",
        "\n",
        "# MNIST images are of size 28x28 pixels\n",
        "#These values will help us in plotting images\n",
        "img_size = 28\n",
        "img_shape = (img_size, img_size)"
      ],
      "execution_count": 0,
      "outputs": []
    },
    {
      "metadata": {
        "id": "MgpORTgi6oys",
        "colab_type": "text"
      },
      "cell_type": "markdown",
      "source": [
        "### Step 3: Create a Function to plot the images"
      ]
    },
    {
      "metadata": {
        "id": "_WhgxacV6oyu",
        "colab_type": "code",
        "colab": {}
      },
      "cell_type": "code",
      "source": [
        "def plot_images(img):\n",
        "    \n",
        "    img=img.reshape(img_shape)\n",
        "    plt.imshow(img, cmap='binary')\n",
        "    plt.show()"
      ],
      "execution_count": 0,
      "outputs": []
    },
    {
      "metadata": {
        "id": "vFt_ZO5_6oyy",
        "colab_type": "text"
      },
      "cell_type": "markdown",
      "source": [
        "### Step 4: Download, Plot and Preprocess Images\n",
        "\n",
        "The `load_data()` function is used to download the data.\n",
        "\n",
        "It returns four numpy arrays containing both the training and the test data.\n",
        "\n",
        "The 'x' values contain the images as a vector. Each image is 28x28 pixels in size, meaning that when unfolded into a vector, we get 784 values.\n",
        "\n",
        "There are 60,000 train images and 10,000 test images.\n",
        "\n",
        "The 'y' values are one-hot encoded vectors which gives us the corresponding class of the image in the 'x' arrays.\n",
        "\n",
        "After downloading the images, we have to reshape the numpy array into the share that we want it to be in."
      ]
    },
    {
      "metadata": {
        "id": "ux8LA0kY6oy0",
        "colab_type": "code",
        "colab": {}
      },
      "cell_type": "code",
      "source": [
        "(x_train, y_train), (x_test, y_test) = mnist.load_data()"
      ],
      "execution_count": 0,
      "outputs": []
    },
    {
      "metadata": {
        "id": "Ciy6kwlR6oy6",
        "colab_type": "code",
        "outputId": "76775ef2-5609-4012-e92a-1c9aee2769ac",
        "colab": {
          "base_uri": "https://localhost:8080/",
          "height": 299
        }
      },
      "cell_type": "code",
      "source": [
        "# Reshaping the data in the form we want.\n",
        "# This will create 60,000 rows with each row containing 784 columns, each containing a pixel value\n",
        "x_train = x_train.reshape(60000, 784)\n",
        "x_test = x_test.reshape(10000, 784)\n",
        "\n",
        "# Convert the images into type float32\n",
        "x_train = x_train.astype('float32')\n",
        "x_test = x_test.astype('float32')\n",
        "\n",
        "# Let's plot some of the images\n",
        "plot_images(x_train[2])\n",
        "\n",
        "\n",
        "# We normalise the images as it helps in training\n",
        "# This means that we convert the pixel values (which are in the range 0-255) to a range (0-1).\n",
        "# This is done by dividing it by 255\n",
        "x_train /= 255\n",
        "x_test /= 255\n",
        "\n",
        "# Let's see how many train and testing samples we have\n",
        "print(x_train.shape[0], 'train samples')\n",
        "print(x_test.shape[0], 'test samples')"
      ],
      "execution_count": 5,
      "outputs": [
        {
          "output_type": "display_data",
          "data": {
            "image/png": "[encoded data removed]",
            "text/plain": [
              "<Figure size 432x288 with 1 Axes>"
            ]
          },
          "metadata": {
            "tags": []
          }
        },
        {
          "output_type": "stream",
          "text": [
            "60000 train samples\n",
            "10000 test samples\n"
          ],
          "name": "stdout"
        }
      ]
    },
    {
      "metadata": {
        "id": "jcjoyYbj6ozG",
        "colab_type": "code",
        "outputId": "bb7dfe16-07d9-492d-bc82-9163961eac87",
        "colab": {
          "base_uri": "https://localhost:8080/",
          "height": 153
        }
      },
      "cell_type": "code",
      "source": [
        "print('y_train format before one hot encoding:')\n",
        "print(y_train[0:5])\n",
        "\n",
        "y_train = keras.utils.to_categorical(y_train, num_classes)\n",
        "\n",
        "print('y_train format after one hot encoding:')\n",
        "print(y_train[0:5])\n",
        "y_test = keras.utils.to_categorical(y_test, num_classes)"
      ],
      "execution_count": 6,
      "outputs": [
        {
          "output_type": "stream",
          "text": [
            "y_train format before one hot encoding:\n",
            "[5 0 4 1 9]\n",
            "y_train format after one hot encoding:\n",
            "[[0. 0. 0. 0. 0. 1. 0. 0. 0. 0.]\n",
            " [1. 0. 0. 0. 0. 0. 0. 0. 0. 0.]\n",
            " [0. 0. 0. 0. 1. 0. 0. 0. 0. 0.]\n",
            " [0. 1. 0. 0. 0. 0. 0. 0. 0. 0.]\n",
            " [0. 0. 0. 0. 0. 0. 0. 0. 0. 1.]]\n"
          ],
          "name": "stdout"
        }
      ]
    },
    {
      "metadata": {
        "id": "vWBC5nfv6ozE",
        "colab_type": "text"
      },
      "cell_type": "markdown",
      "source": [
        "### Step 5: Now we convert the classes into One-Hot Encoded Vectors"
      ]
    },
    {
      "metadata": {
        "id": "ICaPsfP46ozJ",
        "colab_type": "text"
      },
      "cell_type": "markdown",
      "source": [
        "### Step 6: Building the Neural Network!!!\n",
        "\n",
        "The Model is built using the Sequential Function\n",
        "\n",
        "We add layers to the model step by step."
      ]
    },
    {
      "metadata": {
        "id": "Ic3k7Z_E6ozK",
        "colab_type": "code",
        "outputId": "8abcca0d-dbd1-4f05-87e6-2ca15ea56492",
        "colab": {
          "base_uri": "https://localhost:8080/",
          "height": 93
        }
      },
      "cell_type": "code",
      "source": [
        "model = Sequential()\n",
        "model.add(Dense(512, activation='relu', input_shape=(784,)))\n",
        "model.add(Dense(512, activation='relu'))\n",
        "model.add(Dense(num_classes, activation='softmax'))"
      ],
      "execution_count": 7,
      "outputs": [
        {
          "output_type": "stream",
          "text": [
            "WARNING:tensorflow:From /usr/local/lib/python3.6/dist-packages/tensorflow/python/framework/op_def_library.py:263: colocate_with (from tensorflow.python.framework.ops) is deprecated and will be removed in a future version.\n",
            "Instructions for updating:\n",
            "Colocations handled automatically by placer.\n"
          ],
          "name": "stdout"
        }
      ]
    },
    {
      "metadata": {
        "id": "tCow4-5p6ozO",
        "colab_type": "text"
      },
      "cell_type": "markdown",
      "source": [
        "### Step 7: Training the model\n",
        "\n",
        "Now that we have our model built, we can start to train our model. This is done using the compile() function.\n",
        "\n",
        "We use a categorical crossentropy loss function.\n",
        "The optimiser we use is Adam.\n",
        "And the metric that the neural network tries to optimise is the accuracy."
      ]
    },
    {
      "metadata": {
        "id": "Bq9K1lkm6ozQ",
        "colab_type": "code",
        "outputId": "e6ff68fd-ac31-4dec-c522-49e5fefc1a81",
        "colab": {
          "base_uri": "https://localhost:8080/",
          "height": 789
        }
      },
      "cell_type": "code",
      "source": [
        "model.compile(loss='categorical_crossentropy',\n",
        "              optimizer=Adam(),\n",
        "              metrics=['accuracy'])\n",
        "\n",
        "history = model.fit(x_train, y_train,\n",
        "                    batch_size=batch_size,\n",
        "                    epochs=epochs,\n",
        "                    verbose=1,\n",
        "                    validation_data=(x_test, y_test))\n",
        "score = model.evaluate(x_test, y_test, verbose=0)"
      ],
      "execution_count": 8,
      "outputs": [
        {
          "output_type": "stream",
          "text": [
            "WARNING:tensorflow:From /usr/local/lib/python3.6/dist-packages/tensorflow/python/ops/math_ops.py:3066: to_int32 (from tensorflow.python.ops.math_ops) is deprecated and will be removed in a future version.\n",
            "Instructions for updating:\n",
            "Use tf.cast instead.\n",
            "Train on 60000 samples, validate on 10000 samples\n",
            "Epoch 1/5\n",
            "60000/60000 [==============================] - 10s 163us/step - loss: 0.2156 - acc: 0.9374 - val_loss: 0.0995 - val_acc: 0.9683\n",
            "Epoch 2/5\n",
            "60000/60000 [==============================] - 10s 160us/step - loss: 0.0788 - acc: 0.9762 - val_loss: 0.0858 - val_acc: 0.9722\n",
            "Epoch 3/5\n",
            "60000/60000 [==============================] - 10s 161us/step - loss: 0.0493 - acc: 0.9843 - val_loss: 0.0675 - val_acc: 0.9783\n",
            "Epoch 4/5\n",
            "60000/60000 [==============================] - 10s 162us/step - loss: 0.0350 - acc: 0.9886 - val_loss: 0.0664 - val_acc: 0.9816\n",
            "Epoch 5/5\n",
            "60000/60000 [==============================] - 10s 164us/step - loss: 0.0276 - acc: 0.9906 - val_loss: 0.0912 - val_acc: 0.9740\n"
          ],
          "name": "stdout"
        }
      ]
    },
    {
      "metadata": {
        "id": "JrMPhzx66ozW",
        "colab_type": "text"
      },
      "cell_type": "markdown",
      "source": [
        "### Step 8: Now we can see our results!"
      ]
    },
    {
      "metadata": {
        "id": "PyLoOUe_6ozX",
        "colab_type": "code",
        "outputId": "1f55e9c9-daf2-4ffd-a826-5b51c62f0952",
        "colab": {
          "base_uri": "https://localhost:8080/",
          "height": 34
        }
      },
      "cell_type": "code",
      "source": [
        "## print('Test loss:', score[0])\n",
        "print('Test accuracy:', score[1])"
      ],
      "execution_count": 9,
      "outputs": [
        {
          "output_type": "stream",
          "text": [
            "Test accuracy: 0.974\n"
          ],
          "name": "stdout"
        }
      ]
    },
    {
      "metadata": {
        "id": "27IzEx6zOF6w",
        "colab_type": "code",
        "outputId": "87e2d899-0925-4124-d3fa-d7a27f331b62",
        "colab": {
          "base_uri": "https://localhost:8080/",
          "height": 299
        }
      },
      "cell_type": "code",
      "source": [
        "plot_images(x_test[6])\n",
        "# print(x_test[6])\n",
        "# print(x_test[6].shape)\n",
        "\n",
        "prediction=model.predict(x_test[6].reshape(1, 784)) # Need to reshape here\n",
        "\n",
        "print('Prediction is: ')\n",
        "print(np.argmax(prediction)) # Getting the position of the max value in the prediction list"
      ],
      "execution_count": 10,
      "outputs": [
        {
          "output_type": "display_data",
          "data": {
            "image/png": "[encoded data removed]",
            "text/plain": [
              "<Figure size 432x288 with 1 Axes>"
            ]
          },
          "metadata": {
            "tags": []
          }
        },
        {
          "output_type": "stream",
          "text": [
            "Prediction is: \n",
            "4\n"
          ],
          "name": "stdout"
        }
      ]
    },
    {
      "metadata": {
        "id": "29UUjdJM6ozb",
        "colab_type": "text"
      },
      "cell_type": "markdown",
      "source": [
        "We got an appreciable accuracy of 97%+.\n",
        "Let's see if we can improve it by using a convolutional nerual network\n",
        "\n",
        "## Convolutional Neural Network\n",
        "\n",
        "Now we will start to train a convolutional neural network.\n",
        "\n",
        "### Step 9: Importing Modules"
      ]
    },
    {
      "metadata": {
        "id": "PRUj9zmc6ozd",
        "colab_type": "code",
        "colab": {}
      },
      "cell_type": "code",
      "source": [
        "from keras.layers import Flatten   # This is used to get a vector of all the filter outputs\n",
        "from keras.layers import Conv2D    # This is the Conv2D filter"
      ],
      "execution_count": 0,
      "outputs": []
    },
    {
      "metadata": {
        "id": "NlnX8oQ36ozg",
        "colab_type": "text"
      },
      "cell_type": "markdown",
      "source": [
        "### Step 10: Reshaping the Training Data\n",
        "\n",
        "A Conv2D layer takes as input an image of shape:\n",
        "No. of Rows x No. of Columns x No. of Channels\n",
        "\n",
        "In our case, the number of channels is 1. In case of color images like the CIFAR-10 dataset, the number of channels will be 3 (Red, Green, Blue)"
      ]
    },
    {
      "metadata": {
        "id": "jCwCvpX_6ozh",
        "colab_type": "code",
        "colab": {}
      },
      "cell_type": "code",
      "source": [
        "channels = 1\n",
        "\n",
        "x_train_cnn = x_train.reshape(x_train.shape[0], img_size, img_size, channels)\n",
        "x_test_cnn = x_test.reshape(x_test.shape[0], img_size, img_size, channels)\n",
        "input_shape_cnn = (img_size, img_size, channels)"
      ],
      "execution_count": 0,
      "outputs": []
    },
    {
      "metadata": {
        "id": "UtYULQOo6ozj",
        "colab_type": "text"
      },
      "cell_type": "markdown",
      "source": [
        "### Step 11: Building the model"
      ]
    },
    {
      "metadata": {
        "id": "H0ZXTrbM6ozk",
        "colab_type": "code",
        "colab": {
          "base_uri": "https://localhost:8080/",
          "height": 102
        },
        "outputId": "8b53131c-208f-42ab-d43e-c8c56f8325da"
      },
      "cell_type": "code",
      "source": [
        "model_cnn = Sequential()\n",
        "model_cnn.add(Conv2D(32, kernel_size=(3, 3), activation='relu', input_shape=input_shape_cnn))\n",
        "model_cnn.add(Conv2D(64, (3, 3), activation='relu'))\n",
        "model_cnn.add(Flatten())\n",
        "model_cnn.add(Dense(128, activation='relu'))\n",
        "model_cnn.add(Dense(num_classes, activation='softmax'))\n",
        "\n",
        "model_cnn.compile(loss=keras.losses.categorical_crossentropy,\n",
        "              optimizer=keras.optimizers.Adadelta(),\n",
        "              metrics=['accuracy'])\n",
        "\n",
        "history = model_cnn.fit(x_train_cnn, y_train,\n",
        "          batch_size=batch_size,\n",
        "          epochs=2,\n",
        "          verbose=1,\n",
        "          validation_data=(x_test_cnn, y_test))"
      ],
      "execution_count": 13,
      "outputs": [
        {
          "output_type": "stream",
          "text": [
            "Train on 60000 samples, validate on 10000 samples\n",
            "Epoch 1/2\n",
            "60000/60000 [==============================] - 211s 4ms/step - loss: 0.1942 - acc: 0.9399 - val_loss: 0.0505 - val_acc: 0.9840\n",
            "Epoch 2/2\n",
            "60000/60000 [==============================] - 210s 4ms/step - loss: 0.0484 - acc: 0.9850 - val_loss: 0.0426 - val_acc: 0.9861\n"
          ],
          "name": "stdout"
        }
      ]
    },
    {
      "metadata": {
        "id": "-TLtqx3f6ozn",
        "colab_type": "text"
      },
      "cell_type": "markdown",
      "source": [
        "### Step 12: Evaluating our model performance"
      ]
    },
    {
      "metadata": {
        "id": "Bg-11_Yd6ozp",
        "colab_type": "code",
        "colab": {
          "base_uri": "https://localhost:8080/",
          "height": 51
        },
        "outputId": "79fd7484-5181-47df-ed67-9112ada5aa63"
      },
      "cell_type": "code",
      "source": [
        "score = model_cnn.evaluate(x_test_cnn, y_test, verbose=0)\n",
        "print('Test loss:', score[0])\n",
        "print('Test accuracy:', score[1])"
      ],
      "execution_count": 14,
      "outputs": [
        {
          "output_type": "stream",
          "text": [
            "Test loss: 0.04259198339713039\n",
            "Test accuracy: 0.9861\n"
          ],
          "name": "stdout"
        }
      ]
    },
    {
      "metadata": {
        "id": "cpnChH12-H4x",
        "colab_type": "code",
        "colab": {
          "base_uri": "https://localhost:8080/",
          "height": 299
        },
        "outputId": "f7ecf5e3-6589-4575-c1f4-bf6e537c444b"
      },
      "cell_type": "code",
      "source": [
        "plot_images(x_test[10])\n",
        "\n",
        "prediction_cnn=model_cnn.predict(x_test[10].reshape(1, 28, 28, 1))\n",
        "\n",
        "print('The prediction is: ')\n",
        "print(np.argmax(prediction_cnn))"
      ],
      "execution_count": 15,
      "outputs": [
        {
          "output_type": "display_data",
          "data": {
            "image/png": "[encoded data removed]",
            "text/plain": [
              "<Figure size 432x288 with 1 Axes>"
            ]
          },
          "metadata": {
            "tags": []
          }
        },
        {
          "output_type": "stream",
          "text": [
            "The prediction is: \n",
            "0\n"
          ],
          "name": "stdout"
        }
      ]
    }
  ]
}