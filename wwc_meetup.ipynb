{
 "cells": [
  {
   "cell_type": "markdown",
   "metadata": {},
   "source": [
    "# Neural Network to Recognise Hand Written Digits Using Keras\n",
    "\n",
    "#### In this session, we will be using keras, a top level wrapper for Tensorflow to build Neural Networks that can classify hand-written digits.\n",
    "\n",
    "## We will be building three types of networks :\n",
    "* Feed-Forward Neural Network: This is a simple neural network with only dense connections\n",
    "* Convolutional Neural Network: This is a more advanced network\n",
    "* Transfer Learning: We will use a network trained on the ImageNet data and use it to classify MNIST data\n",
    "\n",
    "## You will need :\n",
    "* keras \n",
    "* matplotlib - Used for data visualisation\n",
    "* numpy - Used for Matrix Operations\n",
    "\n",
    "# Let's Get Started!\n",
    "\n",
    "## Feed-Forward Neural Network\n",
    "\n",
    "### Step 1: First we have to import all the packages that we need"
   ]
  },
  {
   "cell_type": "code",
   "execution_count": 5,
   "metadata": {},
   "outputs": [],
   "source": [
    "import keras                         # Used for building the model and getting the MNIST data\n",
    "from keras.datasets import mnist     # Used for downloading and using MNIST data\n",
    "from keras.models import Sequential  # For building the model. Case Sensitive! 'S' is Capital!\n",
    "from keras.layers import Dense       # For fully connected layer\n",
    "from keras.optimizers import Adam    # Optimiser used for training\n",
    "\n",
    "%matplotlib inline\n",
    "import matplotlib.pyplot as plt      # For visualisations"
   ]
  },
  {
   "cell_type": "markdown",
   "metadata": {},
   "source": [
    "### Step 2: Now we have to set up some Hyper Parameters\n",
    "\n",
    "Hyper-parameters are certain constants in the neural network.\n",
    "These include the learning rate, number of layers and number of neurons in each layer.\n",
    "It is hard to know what the 'ideal' values of these hyper-parameters are, so we use certain rules-of-thumb and trial and error to select our hyper-parameters.\n",
    "They can be adjusted to get different results from the neural network."
   ]
  },
  {
   "cell_type": "code",
   "execution_count": 6,
   "metadata": {},
   "outputs": [],
   "source": [
    "# We feed our data into the network in batches.\n",
    "# We chose a batch size of 128 meaning each batch contains 128 images.\n",
    "batch_size = 128   \n",
    "# There are 10 digits, so we have 10 classes\n",
    "num_classes = 10\n",
    "# We will train our network for 5 epochs\n",
    "epochs = 5\n",
    "\n",
    "# MNIST images are of size 28x28 pixels\n",
    "#These values will help us in plotting images\n",
    "img_size = 28\n",
    "img_shape = (img_size, img_size)"
   ]
  },
  {
   "cell_type": "markdown",
   "metadata": {},
   "source": [
    "### Step 3: Create a Function to plot the images"
   ]
  },
  {
   "cell_type": "code",
   "execution_count": 7,
   "metadata": {},
   "outputs": [],
   "source": [
    "def plot_images(images):\n",
    "    \n",
    "    # Create figure with 3x3 sub-plots.\n",
    "    fig, axes = plt.subplots(3, 3)\n",
    "    fig.subplots_adjust(hspace=0.3, wspace=0.3)\n",
    "\n",
    "    for i, ax in enumerate(axes.flat):\n",
    "        # Plot image.\n",
    "        ax.imshow(images[i].reshape(img_shape), cmap='binary')\n",
    "\n",
    "        \n",
    "        # Remove ticks from the plot.\n",
    "        ax.set_xticks([])\n",
    "        ax.set_yticks([])\n",
    "    \n",
    "    # Ensure the plot is shown correctly with multiple plots\n",
    "    # in a single Notebook cell.\n",
    "    plt.show()"
   ]
  },
  {
   "cell_type": "markdown",
   "metadata": {},
   "source": [
    "### Step 4: Download, Plot and Preprocess Images\n",
    "\n",
    "The `load_data()` function is used to download the data.\n",
    "\n",
    "It returns four numpy arrays containing both the training and the test data.\n",
    "\n",
    "The 'x' values contain the images as a vector. Each image is 28x28 pixels in size, meaning that when unfolded into a vector, we get 784 values.\n",
    "\n",
    "There are 60,000 train images and 10,000 test images.\n",
    "\n",
    "The 'y' values are one-hot encoded vectors which gives us the corresponding class of the image in the 'x' arrays.\n",
    "\n",
    "After downloading the images, we have to reshape the numpy array into the share that we want it to be in."
   ]
  },
  {
   "cell_type": "code",
   "execution_count": 8,
   "metadata": {},
   "outputs": [],
   "source": [
    "(x_train, y_train), (x_test, y_test) = mnist.load_data()"
   ]
  },
  {
   "cell_type": "code",
   "execution_count": 9,
   "metadata": {},
   "outputs": [
    {
     "data": {
      "image/png": "[encoded data removed]",
      "text/plain": [
       "<Figure size 432x288 with 9 Axes>"
      ]
     },
     "metadata": {},
     "output_type": "display_data"
    },
    {
     "name": "stdout",
     "output_type": "stream",
     "text": [
      "60000 train samples\n",
      "10000 test samples\n"
     ]
    }
   ],
   "source": [
    "# Reshaping the data in the form we want.\n",
    "# This will create 60,000 rows with each row containing 784 columns, each containing a pixel value\n",
    "x_train = x_train.reshape(60000, 784)\n",
    "x_test = x_test.reshape(10000, 784)\n",
    "\n",
    "# Convert the images into type float32\n",
    "x_train = x_train.astype('float32')\n",
    "x_test = x_test.astype('float32')\n",
    "\n",
    "# Let's plot some of the images\n",
    "plot_images(x_train[0:9])\n",
    "\n",
    "# We normalise the images as it helps in training\n",
    "# This means that we convert the pixel values (which are in the range 0-255) to a range (0-1).\n",
    "# This is done by dividing it by 255\n",
    "x_train /= 255\n",
    "x_test /= 255\n",
    "\n",
    "# Let's see how many train and testing samples we have\n",
    "print(x_train.shape[0], 'train samples')\n",
    "print(x_test.shape[0], 'test samples')"
   ]
  },
  {
   "cell_type": "markdown",
   "metadata": {},
   "source": [
    "### Step 5: Now we convert the classes into One-Hot Encoded Vectors"
   ]
  },
  {
   "cell_type": "code",
   "execution_count": 10,
   "metadata": {},
   "outputs": [],
   "source": [
    "y_train = keras.utils.to_categorical(y_train, num_classes)\n",
    "y_test = keras.utils.to_categorical(y_test, num_classes)"
   ]
  },
  {
   "cell_type": "markdown",
   "metadata": {},
   "source": [
    "### Step 6: Building the Neural Network!!!\n",
    "\n",
    "The Model is built using the Sequential Function\n",
    "\n",
    "We add layers to the model step by step."
   ]
  },
  {
   "cell_type": "code",
   "execution_count": 11,
   "metadata": {},
   "outputs": [],
   "source": [
    "model = Sequential()\n",
    "model.add(Dense(512, activation='relu', input_shape=(784,)))\n",
    "model.add(Dense(512, activation='relu'))\n",
    "model.add(Dense(num_classes, activation='softmax'))"
   ]
  },
  {
   "cell_type": "markdown",
   "metadata": {},
   "source": [
    "### Step 7: Training the model\n",
    "\n",
    "Now that we have our model built, we can start to train our model. This is done using the compile() function.\n",
    "\n",
    "We use a categorical crossentropy loss function.\n",
    "The optimiser we use is Adam.\n",
    "And the metric that the neural network tries to optimise is the accuracy."
   ]
  },
  {
   "cell_type": "code",
   "execution_count": 12,
   "metadata": {},
   "outputs": [
    {
     "name": "stdout",
     "output_type": "stream",
     "text": [
      "Train on 60000 samples, validate on 10000 samples\n",
      "Epoch 1/5\n",
      "60000/60000 [==============================] - 9s 149us/step - loss: 0.2166 - acc: 0.9355 - val_loss: 0.0980 - val_acc: 0.9712\n",
      "Epoch 2/5\n",
      "60000/60000 [==============================] - 8s 140us/step - loss: 0.0787 - acc: 0.9759 - val_loss: 0.0790 - val_acc: 0.9745\n",
      "Epoch 3/5\n",
      "60000/60000 [==============================] - 9s 147us/step - loss: 0.0511 - acc: 0.9836 - val_loss: 0.0664 - val_acc: 0.9795\n",
      "Epoch 4/5\n",
      "60000/60000 [==============================] - 8s 140us/step - loss: 0.0352 - acc: 0.9884 - val_loss: 0.0728 - val_acc: 0.9776\n",
      "Epoch 5/5\n",
      "60000/60000 [==============================] - 9s 144us/step - loss: 0.0280 - acc: 0.9909 - val_loss: 0.0720 - val_acc: 0.9768\n"
     ]
    }
   ],
   "source": [
    "model.compile(loss='categorical_crossentropy',\n",
    "              optimizer=Adam(),\n",
    "              metrics=['accuracy'])\n",
    "\n",
    "history = model.fit(x_train, y_train,\n",
    "                    batch_size=batch_size,\n",
    "                    epochs=epochs,\n",
    "                    verbose=1,\n",
    "                    validation_data=(x_test, y_test))\n",
    "score = model.evaluate(x_test, y_test, verbose=0)"
   ]
  },
  {
   "cell_type": "markdown",
   "metadata": {},
   "source": [
    "### Step 8: Now we can see our results!"
   ]
  },
  {
   "cell_type": "code",
   "execution_count": 13,
   "metadata": {},
   "outputs": [
    {
     "name": "stdout",
     "output_type": "stream",
     "text": [
      "Test accuracy: 0.9768\n"
     ]
    }
   ],
   "source": [
    "## print('Test loss:', score[0])\n",
    "print('Test accuracy:', score[1])"
   ]
  },
  {
   "cell_type": "markdown",
   "metadata": {},
   "source": [
    "We got an appreciable accuracy of 97%+.\n",
    "Let's see if we can improve it by using a convolutional nerual network\n",
    "\n",
    "## Convolutional Neural Network\n",
    "\n",
    "Now we will start to train a convolutional neural network.\n",
    "\n",
    "### Step 9: Importing Modules"
   ]
  },
  {
   "cell_type": "code",
   "execution_count": 14,
   "metadata": {},
   "outputs": [],
   "source": [
    "from keras.layers import Flatten   # This is used to get a vector of all the filter outputs\n",
    "from keras.layers import Conv2D    # This is the Conv2D filter"
   ]
  },
  {
   "cell_type": "markdown",
   "metadata": {},
   "source": [
    "### Step 10: Reshaping the Training Data\n",
    "\n",
    "A Conv2D layer takes as input an image of shape:\n",
    "No. of Rows x No. of Columns x No. of Channels\n",
    "\n",
    "In our case, the number of channels is 1. In case of color images like the CIFAR-10 dataset, the number of channels will be 3 (Red, Green, Blue)"
   ]
  },
  {
   "cell_type": "code",
   "execution_count": 15,
   "metadata": {},
   "outputs": [],
   "source": [
    "channels = 1\n",
    "\n",
    "x_train = x_train.reshape(x_train.shape[0], img_size, img_size, channels)\n",
    "x_test = x_test.reshape(x_test.shape[0], img_size, img_size, channels)\n",
    "input_shape = (img_size, img_size, channels)"
   ]
  },
  {
   "cell_type": "markdown",
   "metadata": {},
   "source": [
    "### Step 11: Building the model"
   ]
  },
  {
   "cell_type": "code",
   "execution_count": 16,
   "metadata": {},
   "outputs": [
    {
     "name": "stdout",
     "output_type": "stream",
     "text": [
      "Train on 60000 samples, validate on 10000 samples\n",
      "Epoch 1/2\n",
      "60000/60000 [==============================] - 206s 3ms/step - loss: 0.1840 - acc: 0.9427 - val_loss: 0.0590 - val_acc: 0.9805\n",
      "Epoch 2/2\n",
      "60000/60000 [==============================] - 205s 3ms/step - loss: 0.0477 - acc: 0.9852 - val_loss: 0.0412 - val_acc: 0.9864\n"
     ]
    },
    {
     "data": {
      "text/plain": [
       "<keras.callbacks.History at 0x1338b39b0>"
      ]
     },
     "execution_count": 16,
     "metadata": {},
     "output_type": "execute_result"
    }
   ],
   "source": [
    "model = Sequential()\n",
    "model.add(Conv2D(32, kernel_size=(3, 3), activation='relu', input_shape=input_shape))\n",
    "model.add(Conv2D(64, (3, 3), activation='relu'))\n",
    "model.add(Flatten())\n",
    "model.add(Dense(128, activation='relu'))\n",
    "model.add(Dense(num_classes, activation='softmax'))\n",
    "\n",
    "model.compile(loss=keras.losses.categorical_crossentropy,\n",
    "              optimizer=keras.optimizers.Adadelta(),\n",
    "              metrics=['accuracy'])\n",
    "\n",
    "model.fit(x_train, y_train,\n",
    "          batch_size=batch_size,\n",
    "          epochs=2,\n",
    "          verbose=1,\n",
    "          validation_data=(x_test, y_test))"
   ]
  },
  {
   "cell_type": "markdown",
   "metadata": {},
   "source": [
    "### Step 12: Evaluating our model performance"
   ]
  },
  {
   "cell_type": "code",
   "execution_count": 17,
   "metadata": {},
   "outputs": [
    {
     "name": "stdout",
     "output_type": "stream",
     "text": [
      "Test loss: 0.04115520673741121\n",
      "Test accuracy: 0.9864\n"
     ]
    }
   ],
   "source": [
    "score = model.evaluate(x_test, y_test, verbose=0)\n",
    "print('Test loss:', score[0])\n",
    "print('Test accuracy:', score[1])"
   ]
  }
 ],
 "metadata": {
  "kernelspec": {
   "display_name": "Python 3",
   "language": "python",
   "name": "python3"
  },
  "language_info": {
   "codemirror_mode": {
    "name": "ipython",
    "version": 3
   },
   "file_extension": ".py",
   "mimetype": "text/x-python",
   "name": "python",
   "nbconvert_exporter": "python",
   "pygments_lexer": "ipython3",
   "version": "3.6.5"
  }
 },
 "nbformat": 4,
 "nbformat_minor": 2
}
